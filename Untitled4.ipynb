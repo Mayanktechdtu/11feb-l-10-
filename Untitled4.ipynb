{
 "cells": [
  {
   "cell_type": "code",
   "execution_count": 2,
   "id": "78537ee3-cd06-44ec-bd7e-d432fc561b80",
   "metadata": {},
   "outputs": [],
   "source": [
    "import logging"
   ]
  },
  {
   "cell_type": "code",
   "execution_count": 5,
   "id": "74a68707-7d51-490d-8372-7fe69df7d49a",
   "metadata": {},
   "outputs": [],
   "source": [
    "logging.basicConfig(filename=\"mayya.log\",level=logging.DEBUG,format='%(asctime)s %(levelname)s %(message)s')"
   ]
  },
  {
   "cell_type": "code",
   "execution_count": null,
   "id": "3a711a93-d93c-4e31-86b3-100dd0ccbe24",
   "metadata": {},
   "outputs": [],
   "source": []
  },
  {
   "cell_type": "code",
   "execution_count": 6,
   "id": "bd9f77fc-64af-48af-8c6b-2d2ec3c4d6b4",
   "metadata": {},
   "outputs": [],
   "source": [
    "logging.info(\"this is info\")\n",
    "logging.error(\"error 404\")\n",
    "logging.critical(\"crash\")"
   ]
  },
  {
   "cell_type": "code",
   "execution_count": null,
   "id": "6a5525c3-af7c-462e-a22f-e960f8c00ff0",
   "metadata": {},
   "outputs": [],
   "source": []
  }
 ],
 "metadata": {
  "kernelspec": {
   "display_name": "Python 3 (ipykernel)",
   "language": "python",
   "name": "python3"
  },
  "language_info": {
   "codemirror_mode": {
    "name": "ipython",
    "version": 3
   },
   "file_extension": ".py",
   "mimetype": "text/x-python",
   "name": "python",
   "nbconvert_exporter": "python",
   "pygments_lexer": "ipython3",
   "version": "3.10.8"
  }
 },
 "nbformat": 4,
 "nbformat_minor": 5
}
