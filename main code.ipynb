{
 "cells": [
  {
   "cell_type": "code",
   "execution_count": 1,
   "id": "54c48f11-0662-4b56-88f1-7b294bb3adcb",
   "metadata": {},
   "outputs": [],
   "source": [
    "#files"
   ]
  },
  {
   "cell_type": "code",
   "execution_count": 11,
   "id": "0096ff5e-c504-48f4-99a3-b2649bd5ec6b",
   "metadata": {},
   "outputs": [],
   "source": [
    "f=open(\"may.txt\",'w')"
   ]
  },
  {
   "cell_type": "code",
   "execution_count": 12,
   "id": "fd49c285-2cf1-4b5c-aea2-7a9374c5e82c",
   "metadata": {},
   "outputs": [
    {
     "data": {
      "text/plain": [
       "'/home/jovyan/work'"
      ]
     },
     "execution_count": 12,
     "metadata": {},
     "output_type": "execute_result"
    }
   ],
   "source": [
    "pwd #present working directory"
   ]
  },
  {
   "cell_type": "code",
   "execution_count": 13,
   "id": "960b4224-83bb-44ce-b0bb-4dddc36cb5af",
   "metadata": {},
   "outputs": [
    {
     "name": "stdout",
     "output_type": "stream",
     "text": [
      "may.txt  README.md  sample-code.ipynb  Untitled.ipynb\n"
     ]
    }
   ],
   "source": [
    "ls #all files available"
   ]
  },
  {
   "cell_type": "code",
   "execution_count": 19,
   "id": "a0462d30-2d80-45a9-b4ef-c71cde4cc784",
   "metadata": {},
   "outputs": [],
   "source": [
    "f=open(\"kk.txt\",'w') #w will delete prev data nd uplaod new "
   ]
  },
  {
   "cell_type": "code",
   "execution_count": 20,
   "id": "4e28ec47-b3bd-4af0-8445-9c712ff09bf1",
   "metadata": {},
   "outputs": [
    {
     "data": {
      "text/plain": [
       "12"
      ]
     },
     "execution_count": 20,
     "metadata": {},
     "output_type": "execute_result"
    }
   ],
   "source": [
    "f.write(\"heloo mayank\")"
   ]
  },
  {
   "cell_type": "code",
   "execution_count": 21,
   "id": "95a3f1f1-a75a-4d96-b4a0-ef4b90379672",
   "metadata": {},
   "outputs": [],
   "source": [
    "f.close()"
   ]
  },
  {
   "cell_type": "code",
   "execution_count": 22,
   "id": "df04b139-44ae-47ce-a4e0-576509d9246b",
   "metadata": {},
   "outputs": [],
   "source": [
    "f=open(\"kk.txt\",'a') #it not delete prev data"
   ]
  },
  {
   "cell_type": "code",
   "execution_count": 23,
   "id": "917034d5-13ce-4998-b7f7-de7311bbd0ae",
   "metadata": {},
   "outputs": [
    {
     "data": {
      "text/plain": [
       "6"
      ]
     },
     "execution_count": 23,
     "metadata": {},
     "output_type": "execute_result"
    }
   ],
   "source": [
    "f.write(\"kse ho\")"
   ]
  },
  {
   "cell_type": "code",
   "execution_count": 24,
   "id": "3a3da3d7-a2ee-46cd-9089-ba1fae8fc47e",
   "metadata": {},
   "outputs": [],
   "source": [
    "f.close()"
   ]
  },
  {
   "cell_type": "code",
   "execution_count": 25,
   "id": "f475afc5-446b-4922-822f-0dca0b7332fb",
   "metadata": {},
   "outputs": [],
   "source": [
    "f=open(\"kk.txt\",'r') "
   ]
  },
  {
   "cell_type": "code",
   "execution_count": 26,
   "id": "a7b3a4a6-6113-4f41-8892-8699082ff715",
   "metadata": {},
   "outputs": [
    {
     "data": {
      "text/plain": [
       "'heloo mayankkse ho'"
      ]
     },
     "execution_count": 26,
     "metadata": {},
     "output_type": "execute_result"
    }
   ],
   "source": [
    "f.read()"
   ]
  },
  {
   "cell_type": "code",
   "execution_count": 29,
   "id": "b690485a-189a-4920-abc4-3306617500d1",
   "metadata": {},
   "outputs": [
    {
     "data": {
      "text/plain": [
       "''"
      ]
     },
     "execution_count": 29,
     "metadata": {},
     "output_type": "execute_result"
    }
   ],
   "source": [
    "f.readline() #it give balnk as it start from start nd end"
   ]
  },
  {
   "cell_type": "code",
   "execution_count": 35,
   "id": "a5304346-b09d-43ea-814d-732c59ca3b75",
   "metadata": {},
   "outputs": [
    {
     "data": {
      "text/plain": [
       "1"
      ]
     },
     "execution_count": 35,
     "metadata": {},
     "output_type": "execute_result"
    }
   ],
   "source": [
    "f.seek(1) #use seek before readline to adjust cursor"
   ]
  },
  {
   "cell_type": "code",
   "execution_count": 36,
   "id": "347c4aeb-a7ac-450b-9753-c85e64ff26ca",
   "metadata": {},
   "outputs": [
    {
     "data": {
      "text/plain": [
       "'eloo mayankkse ho'"
      ]
     },
     "execution_count": 36,
     "metadata": {},
     "output_type": "execute_result"
    }
   ],
   "source": [
    "f.readline()"
   ]
  },
  {
   "cell_type": "code",
   "execution_count": 39,
   "id": "0fe7d525-77c0-4913-89ac-5faf5822ce89",
   "metadata": {},
   "outputs": [],
   "source": [
    "import os #to kno file size"
   ]
  },
  {
   "cell_type": "code",
   "execution_count": 40,
   "id": "cb7c2149-74c8-4280-85da-b00f500f43b8",
   "metadata": {},
   "outputs": [
    {
     "data": {
      "text/plain": [
       "18"
      ]
     },
     "execution_count": 40,
     "metadata": {},
     "output_type": "execute_result"
    }
   ],
   "source": [
    "os.path.getsize(\"kk.txt\")"
   ]
  },
  {
   "cell_type": "code",
   "execution_count": 44,
   "id": "420ee378-e28a-4c11-ba57-c5f67321211e",
   "metadata": {},
   "outputs": [
    {
     "ename": "FileNotFoundError",
     "evalue": "[Errno 2] No such file or directory: 'kk.txt'",
     "output_type": "error",
     "traceback": [
      "\u001b[0;31m---------------------------------------------------------------------------\u001b[0m",
      "\u001b[0;31mFileNotFoundError\u001b[0m                         Traceback (most recent call last)",
      "Cell \u001b[0;32mIn[44], line 1\u001b[0m\n\u001b[0;32m----> 1\u001b[0m \u001b[43mos\u001b[49m\u001b[38;5;241;43m.\u001b[39;49m\u001b[43mremove\u001b[49m\u001b[43m(\u001b[49m\u001b[38;5;124;43m\"\u001b[39;49m\u001b[38;5;124;43mkk.txt\u001b[39;49m\u001b[38;5;124;43m\"\u001b[39;49m\u001b[43m)\u001b[49m \u001b[38;5;66;03m#to del\u001b[39;00m\n",
      "\u001b[0;31mFileNotFoundError\u001b[0m: [Errno 2] No such file or directory: 'kk.txt'"
     ]
    }
   ],
   "source": [
    "os.remove(\"kk.txt\") #to del"
   ]
  },
  {
   "cell_type": "code",
   "execution_count": 45,
   "id": "339e7ef8-831f-4cea-988d-f85b2a68c5cf",
   "metadata": {},
   "outputs": [],
   "source": [
    "os.rename(\"may.txt\",\"new.txt\")"
   ]
  },
  {
   "cell_type": "code",
   "execution_count": 48,
   "id": "9384a95a-a2a3-4ea3-bd09-adb77fd3fa2b",
   "metadata": {},
   "outputs": [],
   "source": [
    "import shutil #to make copy"
   ]
  },
  {
   "cell_type": "code",
   "execution_count": 49,
   "id": "f50a45af-e9e4-4f81-93eb-0ef2d119a2ca",
   "metadata": {},
   "outputs": [
    {
     "data": {
      "text/plain": [
       "'copy_new.txt'"
      ]
     },
     "execution_count": 49,
     "metadata": {},
     "output_type": "execute_result"
    }
   ],
   "source": [
    "shutil.copy(\"new.txt\",\"copy_new.txt\")"
   ]
  },
  {
   "cell_type": "code",
   "execution_count": 52,
   "id": "13d93ee1-0d92-44a0-9a3b-f572719e6c60",
   "metadata": {},
   "outputs": [],
   "source": [
    "with open(\"new.txt\",'w') as f: #another way\n",
    "    f.write(\"whales\")"
   ]
  },
  {
   "cell_type": "code",
   "execution_count": 53,
   "id": "6bc6a0f1-4c81-44a7-b625-149e3b2379d0",
   "metadata": {},
   "outputs": [],
   "source": [
    "f.close()"
   ]
  },
  {
   "cell_type": "code",
   "execution_count": 55,
   "id": "50c734ef-e05b-4a12-acea-c0aa57b7f4b2",
   "metadata": {},
   "outputs": [],
   "source": [
    "#json data"
   ]
  },
  {
   "cell_type": "code",
   "execution_count": 54,
   "id": "19da6c54-c0ef-4f13-83be-91a4acf91b25",
   "metadata": {},
   "outputs": [],
   "source": [
    "d={\"name\":\"mma\",\"price\":3232,\"course\":[\"algo\",\"trade\"]}"
   ]
  },
  {
   "cell_type": "code",
   "execution_count": 59,
   "id": "f3d1d641-aa8b-478a-a830-68f21580fc15",
   "metadata": {},
   "outputs": [],
   "source": [
    "import json #to write something in dict form"
   ]
  },
  {
   "cell_type": "code",
   "execution_count": 60,
   "id": "c2610581-4668-4ec0-a77a-66383d90628b",
   "metadata": {},
   "outputs": [],
   "source": [
    "with open (\"d.json\",'w') as f:\n",
    "    json.dump(d,f)"
   ]
  },
  {
   "cell_type": "code",
   "execution_count": 63,
   "id": "c5328449-0a0a-4880-ad0d-e66eed44a863",
   "metadata": {},
   "outputs": [
    {
     "name": "stdout",
     "output_type": "stream",
     "text": [
      "{'name': 'mma', 'price': 3232, 'course': ['algo', 'trade']}\n"
     ]
    }
   ],
   "source": [
    "with open(\"d.json\",\"r\") as f:\n",
    "    print(json.load(f))"
   ]
  },
  {
   "cell_type": "code",
   "execution_count": 65,
   "id": "6e1ac1ed-8ec4-42bd-b1ed-6bf928b758af",
   "metadata": {},
   "outputs": [
    {
     "data": {
      "text/plain": [
       "['algo', 'trade']"
      ]
     },
     "execution_count": 65,
     "metadata": {},
     "output_type": "execute_result"
    }
   ],
   "source": [
    "d[\"course\"]"
   ]
  },
  {
   "cell_type": "code",
   "execution_count": 66,
   "id": "113a4fbf-5045-455c-86a0-c246c3c20ce6",
   "metadata": {},
   "outputs": [
    {
     "data": {
      "text/plain": [
       "'trade'"
      ]
     },
     "execution_count": 66,
     "metadata": {},
     "output_type": "execute_result"
    }
   ],
   "source": [
    "d[\"course\"][1]"
   ]
  },
  {
   "cell_type": "code",
   "execution_count": 67,
   "id": "02821b5a-166e-4d51-9111-b4e5dbd7a909",
   "metadata": {},
   "outputs": [],
   "source": [
    "#csv\n"
   ]
  },
  {
   "cell_type": "code",
   "execution_count": 68,
   "id": "c7e485e2-2864-486b-8a0b-9fc81bc63c36",
   "metadata": {},
   "outputs": [],
   "source": [
    "import csv"
   ]
  },
  {
   "cell_type": "code",
   "execution_count": 69,
   "id": "ee691eaf-e7f1-4f81-a170-dd1337e57171",
   "metadata": {},
   "outputs": [],
   "source": [
    "a=[[\"nma\",\"num\",\"amount\"],\n",
    "   [\"may\",8773838,100],\n",
    "   [\"sha\",2111311,200]]"
   ]
  },
  {
   "cell_type": "code",
   "execution_count": 73,
   "id": "72fbf6b8-ab36-46b5-a611-daff4f042563",
   "metadata": {},
   "outputs": [],
   "source": [
    "with open(\"a.csv\",\"w\") as f:\n",
    "    writer=csv.writer(f)\n",
    "    \n",
    "    for i in a:\n",
    "        writer.writerow(i)\n",
    "        "
   ]
  },
  {
   "cell_type": "code",
   "execution_count": 74,
   "id": "d81ce8ce-e85c-4d50-bc14-d45c76ae980f",
   "metadata": {},
   "outputs": [],
   "source": [
    "f.close()"
   ]
  },
  {
   "cell_type": "code",
   "execution_count": 75,
   "id": "3a9ffd74-5be3-48a5-bc3d-3c0984d6ce7c",
   "metadata": {},
   "outputs": [
    {
     "name": "stdout",
     "output_type": "stream",
     "text": [
      "['nma', 'num', 'amount']\n",
      "['may', '8773838', '100']\n",
      "['sha', '2111311', '200']\n"
     ]
    }
   ],
   "source": [
    "with open (\"a.csv\",'r') as f:\n",
    "    read=csv.reader(f)\n",
    "    \n",
    "    for i in read:\n",
    "        print(i)"
   ]
  },
  {
   "cell_type": "code",
   "execution_count": 76,
   "id": "6a011c7b-e85f-4f41-9243-26de00d3d021",
   "metadata": {},
   "outputs": [],
   "source": [
    "#binary data"
   ]
  },
  {
   "cell_type": "code",
   "execution_count": 78,
   "id": "65ac17b8-6c32-4010-999f-7df219cfdb40",
   "metadata": {},
   "outputs": [],
   "source": [
    "with open (\"test.bin\",\"wb\") as f:\n",
    "    f.write(b\"x01\\x02\\x04\")"
   ]
  },
  {
   "cell_type": "code",
   "execution_count": 79,
   "id": "8f87e9bd-196e-432d-a8e8-359452cf78cb",
   "metadata": {},
   "outputs": [
    {
     "name": "stdout",
     "output_type": "stream",
     "text": [
      "b'x01\\x02\\x04'\n"
     ]
    }
   ],
   "source": [
    "with open (\"test.bin\",\"rb\") as f:\n",
    "    print(f.read())\n"
   ]
  },
  {
   "cell_type": "code",
   "execution_count": 1,
   "id": "4b803080-fc10-4cfc-a64d-3ba015b26ac7",
   "metadata": {},
   "outputs": [],
   "source": [
    "#buffer( to rite in small chunk"
   ]
  },
  {
   "cell_type": "code",
   "execution_count": 2,
   "id": "739a4d54-f0dd-4ccf-a5ea-c22b4a3662d7",
   "metadata": {},
   "outputs": [],
   "source": [
    "import io"
   ]
  },
  {
   "cell_type": "code",
   "execution_count": 4,
   "id": "39322cb0-6866-4f61-8a5b-9d42ad8186d2",
   "metadata": {},
   "outputs": [],
   "source": [
    "with open(\"test1.txt\",\"wb\") as f:\n",
    "    file=io.BufferedWriter(f)\n",
    "    \n",
    "    file.write(b\"hello kse ho\")\n",
    "    file.write(b\"second line\") #no data available as we need to close file\n",
    "    "
   ]
  },
  {
   "cell_type": "code",
   "execution_count": 6,
   "id": "4a1f2a4c-b499-449e-b58b-c32b687ae887",
   "metadata": {},
   "outputs": [],
   "source": [
    "with open(\"test1.txt\",\"wb\") as f:\n",
    "    file=io.BufferedWriter(f)\n",
    "    \n",
    "    file.write(b\"hello kse ho\\n\")\n",
    "    file.write(b\"second line\")\n",
    "    \n",
    "    file.flush()\n",
    "    "
   ]
  },
  {
   "cell_type": "code",
   "execution_count": 8,
   "id": "1da1ede5-6c88-42f1-a9f8-754609bb578f",
   "metadata": {},
   "outputs": [],
   "source": [
    "with open (\"test1.txt\",\"rb\") as f:\n",
    "    file=io.BufferedReader(f)\n",
    "    file.read() #with this you cant see use print\n"
   ]
  },
  {
   "cell_type": "code",
   "execution_count": null,
   "id": "b4ae9290-4a4a-4bd3-834d-fd5352e6ffe0",
   "metadata": {},
   "outputs": [],
   "source": []
  },
  {
   "cell_type": "code",
   "execution_count": 9,
   "id": "88ede96d-7f51-4d6d-9f8d-8ccb67350525",
   "metadata": {},
   "outputs": [
    {
     "name": "stdout",
     "output_type": "stream",
     "text": [
      "b'hello kse ho\\nsecond line'\n"
     ]
    }
   ],
   "source": [
    "with open (\"test1.txt\",\"rb\") as f:\n",
    "    file=io.BufferedReader(f)\n",
    "    print(file.read()) \n"
   ]
  },
  {
   "cell_type": "code",
   "execution_count": null,
   "id": "5e8111c0-860d-44a0-8d18-9b939aba3d69",
   "metadata": {},
   "outputs": [],
   "source": []
  },
  {
   "cell_type": "code",
   "execution_count": 12,
   "id": "612d9ab1-c8fe-4832-9821-ae3183a61b1d",
   "metadata": {},
   "outputs": [
    {
     "name": "stdout",
     "output_type": "stream",
     "text": [
      "b'hello kse '\n"
     ]
    }
   ],
   "source": [
    "with open (\"test1.txt\",\"rb\") as f:\n",
    "    file=io.BufferedReader(f)\n",
    "    a=file.read(10) #it jst count 10 byte data size\n",
    "    print(a)\n"
   ]
  },
  {
   "cell_type": "code",
   "execution_count": 13,
   "id": "63fa6fe7-ea38-430f-af46-bbc70d2a8603",
   "metadata": {},
   "outputs": [],
   "source": [
    "#loging (to save something in file instead of print"
   ]
  },
  {
   "cell_type": "code",
   "execution_count": 28,
   "id": "ed595506-ff71-45cf-a409-a07da68b7287",
   "metadata": {},
   "outputs": [],
   "source": [
    "import logging"
   ]
  },
  {
   "cell_type": "code",
   "execution_count": 29,
   "id": "50c8aad8-5444-4273-b4af-70fbee9ac2f4",
   "metadata": {},
   "outputs": [],
   "source": [
    "logging.basicConfig(filename=\"test.log\",level=logging.INFO)"
   ]
  },
  {
   "cell_type": "code",
   "execution_count": 30,
   "id": "e6f4c149-3390-43c3-97b0-78574627f81f",
   "metadata": {},
   "outputs": [],
   "source": [
    "logging.info(\"hello jii kya hall\")"
   ]
  },
  {
   "cell_type": "markdown",
   "id": "37f4122e-c667-436b-b0fc-46418223375d",
   "metadata": {},
   "source": [
    "1.NOTSET  #only below to that particular work \n",
    "2.DEBUG    #use in this seq. only\n",
    "3.INFO\n",
    "4.WARNING\n",
    "5.ERROR\n",
    "6.CRITICAL\n"
   ]
  },
  {
   "cell_type": "code",
   "execution_count": 32,
   "id": "e95cc3d5-efdd-464f-a9ab-204381f0966e",
   "metadata": {},
   "outputs": [],
   "source": [
    "logging.debug(\"hhs\") #this not work as level set is info"
   ]
  },
  {
   "cell_type": "code",
   "execution_count": 35,
   "id": "d2969806-4e90-4815-b5be-eb56ed8882b7",
   "metadata": {},
   "outputs": [],
   "source": [
    "import logging"
   ]
  },
  {
   "cell_type": "code",
   "execution_count": 36,
   "id": "b2348be3-23d3-489e-adbc-24f1aa52f44d",
   "metadata": {},
   "outputs": [],
   "source": [
    "logging.basicConfig(filename=\"test2.log\",level=logging.DEBUG, format='%(asctime)s %(mess)s')"
   ]
  },
  {
   "cell_type": "code",
   "execution_count": 37,
   "id": "00aea4c9-4ccf-46f6-af0d-d719c0be8440",
   "metadata": {},
   "outputs": [],
   "source": [
    "logging.info(\"this is info\")\n",
    "logging.error(\"error 404\")\n",
    "logging.critical(\"crash\")"
   ]
  },
  {
   "cell_type": "code",
   "execution_count": 39,
   "id": "637d40e0-cabd-4e6f-a3e2-af93d1258e66",
   "metadata": {},
   "outputs": [],
   "source": [
    "#modules nd import staement (i leave tis topic as of now)"
   ]
  },
  {
   "cell_type": "code",
   "execution_count": null,
   "id": "e2424033-4c95-4faf-bcb2-0c262362b296",
   "metadata": {},
   "outputs": [],
   "source": []
  }
 ],
 "metadata": {
  "kernelspec": {
   "display_name": "Python 3 (ipykernel)",
   "language": "python",
   "name": "python3"
  },
  "language_info": {
   "codemirror_mode": {
    "name": "ipython",
    "version": 3
   },
   "file_extension": ".py",
   "mimetype": "text/x-python",
   "name": "python",
   "nbconvert_exporter": "python",
   "pygments_lexer": "ipython3",
   "version": "3.10.8"
  }
 },
 "nbformat": 4,
 "nbformat_minor": 5
}
