{
 "cells": [
  {
   "cell_type": "code",
   "execution_count": 1,
   "id": "6287bba4-05c5-4790-9810-a05ea5b0c00e",
   "metadata": {},
   "outputs": [],
   "source": [
    "import logging"
   ]
  },
  {
   "cell_type": "code",
   "execution_count": 2,
   "id": "e9fd7b78-0c39-4adb-a446-b8bf97a342e6",
   "metadata": {},
   "outputs": [],
   "source": [
    "logging.basicConfig(filename=\"mama.log\",level=logging.DEBUG,format='%(asctime)s %(message)s')"
   ]
  },
  {
   "cell_type": "code",
   "execution_count": 3,
   "id": "0216cffa-f95a-4cd3-8aa4-ad8a7dd8fc12",
   "metadata": {},
   "outputs": [],
   "source": [
    "logging.info(\"this is info\")\n",
    "logging.error(\"error 404\")\n",
    "logging.critical(\"crash\")"
   ]
  },
  {
   "cell_type": "code",
   "execution_count": 4,
   "id": "4a4f7df3-74aa-45a8-9b25-c7c1d3e2c63a",
   "metadata": {},
   "outputs": [],
   "source": [
    "logging.shutdown()"
   ]
  },
  {
   "cell_type": "code",
   "execution_count": 6,
   "id": "ea31f143-0b17-4219-8fc8-c22390179027",
   "metadata": {},
   "outputs": [],
   "source": [
    "logging.basicConfig(filename=\"mayya.log\",level=logging.DEBUG,format='%(asctime)s %(name)s %(levelname)s %(message)s')"
   ]
  },
  {
   "cell_type": "code",
   "execution_count": null,
   "id": "e31c88c2-0245-4cd7-b496-dc81eb8b1b02",
   "metadata": {},
   "outputs": [],
   "source": []
  },
  {
   "cell_type": "code",
   "execution_count": 7,
   "id": "b40cd501-98db-4dba-b879-a1853e8bce40",
   "metadata": {},
   "outputs": [],
   "source": [
    "logging.info(\"this is info\")\n",
    "logging.error(\"error 404\")\n",
    "logging.critical(\"crash\")"
   ]
  },
  {
   "cell_type": "code",
   "execution_count": null,
   "id": "9c33ca51-aaf6-40b9-ae27-7363252bec59",
   "metadata": {},
   "outputs": [],
   "source": []
  }
 ],
 "metadata": {
  "kernelspec": {
   "display_name": "Python 3 (ipykernel)",
   "language": "python",
   "name": "python3"
  },
  "language_info": {
   "codemirror_mode": {
    "name": "ipython",
    "version": 3
   },
   "file_extension": ".py",
   "mimetype": "text/x-python",
   "name": "python",
   "nbconvert_exporter": "python",
   "pygments_lexer": "ipython3",
   "version": "3.10.8"
  }
 },
 "nbformat": 4,
 "nbformat_minor": 5
}
